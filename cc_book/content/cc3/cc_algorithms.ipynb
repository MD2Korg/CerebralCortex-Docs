{
 "cells": [
  {
   "cell_type": "markdown",
   "metadata": {
    "toc-hr-collapsed": false
   },
   "source": [
    "# Cerebral Cortex Data Analysis Algorithms\n",
    "Cerebral Cortex contains a library of algorithms that are useful for processing data and converting it into features or biomarkers.  This page demonstrates a simple GPS clustering algorithm.  For more details about the algorithms that are available, please see our [documentation](https://cerebralcortex-kernel.readthedocs.io/en/latest/).  These algorithms are constantly being developed and improved through our own work and the work of other researchers."
   ]
  },
  {
   "cell_type": "markdown",
   "metadata": {},
   "source": [
    "## Initalize the system"
   ]
  },
  {
   "cell_type": "code",
   "execution_count": 1,
   "metadata": {},
   "outputs": [
    {
     "data": {
      "text/html": [
       "<script type=\"text/javascript\">window.PlotlyConfig = {MathJaxConfig: 'local'};</script><script type=\"text/javascript\">if (window.MathJax) {MathJax.Hub.Config({SVG: {font: \"STIX-Web\"}});}</script><script>requirejs.config({paths: { 'plotly': ['https://cdn.plot.ly/plotly-latest.min']},});if(!window._Plotly) {require(['plotly'],function(plotly) {window._Plotly=plotly;});}</script>"
      ],
      "text/vnd.plotly.v1+html": [
       "<script type=\"text/javascript\">window.PlotlyConfig = {MathJaxConfig: 'local'};</script><script type=\"text/javascript\">if (window.MathJax) {MathJax.Hub.Config({SVG: {font: \"STIX-Web\"}});}</script><script>requirejs.config({paths: { 'plotly': ['https://cdn.plot.ly/plotly-latest.min']},});if(!window._Plotly) {require(['plotly'],function(plotly) {window._Plotly=plotly;});}</script>"
      ]
     },
     "metadata": {},
     "output_type": "display_data"
    },
    {
     "data": {
      "text/html": [
       "<script type=\"text/javascript\">window.PlotlyConfig = {MathJaxConfig: 'local'};</script><script type=\"text/javascript\">if (window.MathJax) {MathJax.Hub.Config({SVG: {font: \"STIX-Web\"}});}</script><script>requirejs.config({paths: { 'plotly': ['https://cdn.plot.ly/plotly-latest.min']},});if(!window._Plotly) {require(['plotly'],function(plotly) {window._Plotly=plotly;});}</script>"
      ],
      "text/vnd.plotly.v1+html": [
       "<script type=\"text/javascript\">window.PlotlyConfig = {MathJaxConfig: 'local'};</script><script type=\"text/javascript\">if (window.MathJax) {MathJax.Hub.Config({SVG: {font: \"STIX-Web\"}});}</script><script>requirejs.config({paths: { 'plotly': ['https://cdn.plot.ly/plotly-latest.min']},});if(!window._Plotly) {require(['plotly'],function(plotly) {window._Plotly=plotly;});}</script>"
      ]
     },
     "metadata": {},
     "output_type": "display_data"
    }
   ],
   "source": [
    "%reload_ext autoreload\n",
    "from util.dependencies import *\n",
    "from settings import USER_ID\n",
    "\n",
    "CC = Kernel(\"/home/md2k/cc_conf/\")"
   ]
  },
  {
   "cell_type": "markdown",
   "metadata": {},
   "source": [
    "## Generate some sample location data\n",
    "\n",
    "This example utilizes a data generator to protect the privacy of real participants and allows for anyone utilizing this system to explore the data without required institutional review board approvals. This is disabled for this demonstration to not create too much data at once."
   ]
  },
  {
   "cell_type": "code",
   "execution_count": 2,
   "metadata": {},
   "outputs": [],
   "source": [
    "# gen_location_datastream(CC, user_id=USER_ID, stream_name=\"GPS--org.md2k.phonesensor--PHONE\")"
   ]
  },
  {
   "cell_type": "markdown",
   "metadata": {
    "toc-hr-collapsed": false
   },
   "source": [
    "## Get stream data\n",
    "Read the demo GPS stream and show some example values.  A typical GPS sample contains values for _latitude, longitude, altitude, speed, bearing, and accuracy_."
   ]
  },
  {
   "cell_type": "code",
   "execution_count": 3,
   "metadata": {},
   "outputs": [
    {
     "name": "stdout",
     "output_type": "stream",
     "text": [
      "+-------------------+-------------------+------------------+------------------+--------+--------+----------+---------+-------+--------------------+\n",
      "|          timestamp|          localtime|          latitude|         longitude|altitude|   speed|   bearing| accuracy|version|                user|\n",
      "+-------------------+-------------------+------------------+------------------+--------+--------+----------+---------+-------+--------------------+\n",
      "|2019-09-01 17:20:59|2019-09-01 22:20:59|35.121555023690924|-89.87015080364482|      96|4.478289|339.106126|20.914927|      1|00000000-afb8-476...|\n",
      "|2019-09-01 17:21:59|2019-09-01 22:21:59|35.122068188916195|-89.86843860790495|      99|3.708595|299.378306|20.123134|      1|00000000-afb8-476...|\n",
      "|2019-09-01 17:22:59|2019-09-01 22:22:59|35.120601654816824|-89.87075582986049|      94|3.474958|333.673786| 18.31153|      1|00000000-afb8-476...|\n",
      "+-------------------+-------------------+------------------+------------------+--------+--------+----------+---------+-------+--------------------+\n",
      "only showing top 3 rows\n",
      "\n",
      "+-------+------------------+-------------------+-----------------+------------------+-----------------+------------------+-------+------------------------------------+\n",
      "|summary|latitude          |longitude          |altitude         |speed             |bearing          |accuracy          |version|user                                |\n",
      "+-------+------------------+-------------------+-----------------+------------------+-----------------+------------------+-------+------------------------------------+\n",
      "|count  |1500              |1500               |1500             |1500              |1500             |1500              |1500   |1500                                |\n",
      "|mean   |35.140765928235965|-89.92635924952867 |90.97333333333333|2.550859554666667 |171.8407646826667|20.085011633333327|1.0    |null                                |\n",
      "|stddev |0.0334470383453647|0.05470170384114776|4.841650883504583|1.4393811349151673|98.75530452171094|5.760599009431795 |0.0    |null                                |\n",
      "|min    |35.09455910747995 |-90.04118700912981 |83               |0.003416          |0.018615         |10.006856         |1      |00000000-afb8-476e-9872-6472b4e66b68|\n",
      "|max    |35.19316964059884 |-89.86779020898466 |99               |4.999019          |349.59488        |30.343894         |1      |00000000-afb8-476e-9872-6472b4e66b68|\n",
      "+-------+------------------+-------------------+-----------------+------------------+-----------------+------------------+-------+------------------------------------+\n",
      "\n"
     ]
    }
   ],
   "source": [
    "gps_stream = CC.get_stream(\"GPS--org.md2k.phonesensor--PHONE\")\n",
    "gps_stream.show(3)\n",
    "gps_stream.summary()"
   ]
  },
  {
   "cell_type": "markdown",
   "metadata": {},
   "source": [
    "## Cluster the location data\n",
    "Cerebral Cortex makes it easy to apply built-in algorithms to data streams.  In this case, `gps_clusters` is imported from the algorithm library, then `compute` is utilized to run this algorithm on the `gps_stream` to generate a set of centroids. This is the general format for applying algorithm to datastream and makes it easy for researchers to apply validated and tested algorithms to his/her own data without the need to become an expert in the particular set of transformations needed.  \n",
    "\n",
    "_Note:_ the `compute` method engages the parallel computation capabilities of Cerebral Cortex, which causes all the data to be read from the data storage layer and processed on every computational core available to the system.  This allows the computation to run as quickly as possible and to take advantage of powerful clusters from a relatively simple interface.  This capability is critical to working with mobile sensor big data where data sizes can exceed 100s of gigabytes per datastream for larger studies."
   ]
  },
  {
   "cell_type": "code",
   "execution_count": 4,
   "metadata": {},
   "outputs": [
    {
     "name": "stdout",
     "output_type": "stream",
     "text": [
      "+------------------------------------+---------+----------+\n",
      "|user                                |latitude |longitude |\n",
      "+------------------------------------+---------+----------+\n",
      "|00000000-afb8-476e-9872-6472b4e66b68|35.18813 |-90.03865 |\n",
      "|00000000-afb8-476e-9872-6472b4e66b68|35.120262|-89.8703  |\n",
      "|00000000-afb8-476e-9872-6472b4e66b68|35.184944|-89.95288 |\n",
      "|00000000-afb8-476e-9872-6472b4e66b68|35.13735 |-89.884705|\n",
      "|00000000-afb8-476e-9872-6472b4e66b68|35.106743|-89.97342 |\n",
      "|00000000-afb8-476e-9872-6472b4e66b68|35.150833|-89.88389 |\n",
      "|00000000-afb8-476e-9872-6472b4e66b68|35.10934 |-89.98437 |\n",
      "|00000000-afb8-476e-9872-6472b4e66b68|35.125534|-89.88513 |\n",
      "|00000000-afb8-476e-9872-6472b4e66b68|35.190693|-89.91586 |\n",
      "|00000000-afb8-476e-9872-6472b4e66b68|35.184727|-90.03771 |\n",
      "|00000000-afb8-476e-9872-6472b4e66b68|35.097404|-89.87453 |\n",
      "+------------------------------------+---------+----------+\n",
      "\n"
     ]
    }
   ],
   "source": [
    "from cerebralcortex.algorithms import gps_clusters\n",
    "centroids = gps_stream.compute(gps_clusters)\n",
    "centroids.show(truncate=False)"
   ]
  },
  {
   "cell_type": "markdown",
   "metadata": {},
   "source": [
    "## Visualize GPS Data"
   ]
  },
  {
   "cell_type": "markdown",
   "metadata": {},
   "source": [
    "### GPS Stream Plot\n",
    "GPS visualization requires dedicated plotting capabilities. Cerebral Cortex includes a library to allow for interactive exploration.  In this plot, use your mouse to drag the map around along with zooming in to explore the specific data points."
   ]
  },
  {
   "cell_type": "code",
   "execution_count": 5,
   "metadata": {},
   "outputs": [
    {
     "data": {
      "application/vnd.jupyter.widget-view+json": {
       "model_id": "8f711ec2e0ec4a608b6529e896c55eef",
       "version_major": 2,
       "version_minor": 0
      },
      "text/plain": [
       "Map(basemap={'url': 'https://{s}.tile.openstreetmap.org/{z}/{x}/{y}.png', 'max_zoom': 19, 'attribution': 'Map …"
      ]
     },
     "metadata": {},
     "output_type": "display_data"
    }
   ],
   "source": [
    "gps_stream.plot_gps_cords(zoom=8)"
   ]
  },
  {
   "cell_type": "markdown",
   "metadata": {},
   "source": [
    "### Centroids Stream Plot\n",
    "This plot shows only the centroid locations from the clustering algorithm."
   ]
  },
  {
   "cell_type": "code",
   "execution_count": 6,
   "metadata": {},
   "outputs": [
    {
     "data": {
      "application/vnd.jupyter.widget-view+json": {
       "model_id": "05880362fc3041e8bb400cc77174613e",
       "version_major": 2,
       "version_minor": 0
      },
      "text/plain": [
       "Map(basemap={'url': 'https://{s}.tile.openstreetmap.org/{z}/{x}/{y}.png', 'max_zoom': 19, 'attribution': 'Map …"
      ]
     },
     "metadata": {},
     "output_type": "display_data"
    }
   ],
   "source": [
    "centroids.plot_gps_cords(zoom=12)"
   ]
  }
 ],
 "metadata": {
  "kernelspec": {
   "display_name": "Python 3",
   "language": "python",
   "name": "python3"
  },
  "language_info": {
   "codemirror_mode": {
    "name": "ipython",
    "version": 3
   },
   "file_extension": ".py",
   "mimetype": "text/x-python",
   "name": "python",
   "nbconvert_exporter": "python",
   "pygments_lexer": "ipython3",
   "version": "3.6.6"
  },
  "toc-autonumbering": true,
  "toc-showmarkdowntxt": true
 },
 "nbformat": 4,
 "nbformat_minor": 2
}
